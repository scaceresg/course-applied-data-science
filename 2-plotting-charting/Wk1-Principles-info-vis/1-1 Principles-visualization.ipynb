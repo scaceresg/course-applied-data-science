{
 "cells": [
  {
   "attachments": {},
   "cell_type": "markdown",
   "metadata": {},
   "source": [
    "## Principles of Information Visualization"
   ]
  },
  {
   "attachments": {},
   "cell_type": "markdown",
   "metadata": {},
   "source": [
    "### Tools for Thinking about Design (Alberto Cairo)"
   ]
  },
  {
   "attachments": {},
   "cell_type": "markdown",
   "metadata": {},
   "source": [
    "Alberto Cairo provides a tool for thinking about design tradeoffs when building information graphics: the **Visualization Wheel**.\n",
    "\n",
    "![Visualization Wheel](https://ryanwingate.com/visualization/guidelines/visualization-wheel/cairo-visualization-wheel.jpg)"
   ]
  },
  {
   "attachments": {},
   "cell_type": "markdown",
   "metadata": {},
   "source": [
    "#### Visualization Wheel Dimensions\n",
    "\n",
    "**Abstraction $\\leftrightarrow$ Figuration**: Boxes and charts (abstraction) or real-world physical objects (figuration)\n",
    "\n",
    "**Functionality $\\leftrightarrow$ Decoration**: No embellishments (functionality) or artistic embellishments (decoration)\n",
    "\n",
    "**Density $\\leftrightarrow$ Lightness**: Must be studied in depth (density) or understandable at a glance (lightness)\n",
    "\n",
    "**Multidimensional $\\leftrightarrow$ Unidimensional**: Different aspects of phenomena (multidimensional) or single or few items of phenomena (unidimensional)\n",
    "\n",
    "**Originality $\\leftrightarrow$ Familiarity**: Novel methods of visualization (originality) or established and well understood methods of visualization (familiarity)\n",
    "\n",
    "**Novelty $\\leftrightarrow$ Redundancy**: Explaining each item once (novelty) or encoding multiple explanations of the same phenomena (redundancy)\n",
    "\n"
   ]
  },
  {
   "attachments": {},
   "cell_type": "markdown",
   "metadata": {},
   "source": [
    "### Graphical Heuristics: Data-ink ratio (Edward Tufte)"
   ]
  },
  {
   "attachments": {},
   "cell_type": "markdown",
   "metadata": {},
   "source": [
    "Edward Tufte is a seminal figure on how to design visual displays of quantitative information. In his work, he introduces two interesting *graphical heuristics*: the data-ink ratio and chart junk."
   ]
  },
  {
   "attachments": {},
   "cell_type": "markdown",
   "metadata": {},
   "source": [
    "**Data-ink ratio**: For Tufte, data-ink is the non-erasable core of a graphic, the non-redundant ink arranged in response to variation in the numbers represented. In other words, the data-ink is essential to the sense-making process for a given variable. What he suggests is that we *remove those elements which don't add new information* to the graphic.\n",
    "\n",
    "Example:\n",
    "\n",
    "![data-ink ratio](https://lukebeacon.com.au/wp-content/uploads/2020/07/Capture-1060x299.png)\n",
    "\n",
    "See the post by Plotly: https://medium.com/plotly/maximizing-the-data-ink-ratio-in-dashboards-and-slide-deck-7887f7c1fab"
   ]
  },
  {
   "attachments": {},
   "cell_type": "markdown",
   "metadata": {},
   "source": [
    "### Graphical Heuristics: Chart junk (Edward Tufte)"
   ]
  },
  {
   "attachments": {},
   "cell_type": "markdown",
   "metadata": {},
   "source": [
    "**Chart junk**: He suggested that there's really three kinds of chartjunk:\n",
    "\n",
    "1. The unintended optical art: e.g. excessive shading or patterning of chart features (like line patterns). Tufte suggests that instead of patterning, it's better to label the chart graphics directly.\n",
    "\n",
    "2. The grid: The grid is both unnecessary as data ink, but also causes competition with the actual data being shared. Thinning, removing or desaturating grid lines makes it easier to see the data. Direct labeling of data is another way to reduce this form of chartjunk.\n",
    "\n",
    "3. The duck: Tufte refers to non-data creative graphics (like including line arts or photographs). \n",
    "\n",
    "![duck example](https://junkcharts.typepad.com/.a/6a00d8341e992c53ef013480c7cba9970c-pi)"
   ]
  },
  {
   "attachments": {},
   "cell_type": "markdown",
   "metadata": {},
   "source": [
    "### Graphical Heuristics: Lie factor and Spark lines (Edward Tufte)"
   ]
  },
  {
   "attachments": {},
   "cell_type": "markdown",
   "metadata": {},
   "source": [
    "Edward Tufte's emphasis on simplicity and minimalism has grown a great following. In his book, Beautiful Evidence, he suggested charts be reduced and embedded within the context of discussion.\n",
    "\n",
    "A small graph (e.g. a time series graph) can convey so much information quickly that it would be invaluable to readers: *sparklines*, which are refeerred as data words. \n",
    "\n",
    "Another Tufte's principle is *lie factor*, which is the size of an effect shown in the graphic divided by the size of the effect actually in the data. The lie factor is done unconsciously but misleads observers."
   ]
  },
  {
   "attachments": {},
   "cell_type": "markdown",
   "metadata": {},
   "source": [
    "### The Truthful Art (Alberto Cairo)"
   ]
  },
  {
   "attachments": {},
   "cell_type": "markdown",
   "metadata": {},
   "source": [
    "The Truthful Art, book by Alberto Cairo, is a must read for any data scientist.\n",
    "\n",
    "The foundation of the book is a five part framework for considering the qualities of an informatic graphic:\n",
    "\n",
    "* **Truthful**: As data scientists, we have two obligations when it comes to protecting the truth: 1) to be honest with ourselves when we clean, summarize and manipulate data. Ensure you aren't misleading yourself. Skepticism is an important skill for data scientists. 2) to be honest with our audience. There are ways of displaying data which are more truthful than others.\n",
    "\n",
    "* **Functionality**: Use Tufte's heuristics to increase charts functionality. Use crowdsources to test functionality hypothesis.\n",
    "\n",
    "* **Beauty**: Depends on situational and context factors, as well as understanding your audience.\n",
    "\n",
    "* **Insightful**: Graphs shouldn't just replicate data in tables, but they should draw the viewer in such that the viewer has an eureka! moment.\n",
    "\n",
    "* **Enlightening**: It's a combination of the previous four qualities, but with a social ethical responsibility dimension."
   ]
  }
 ],
 "metadata": {
  "language_info": {
   "name": "python"
  },
  "orig_nbformat": 4
 },
 "nbformat": 4,
 "nbformat_minor": 2
}
